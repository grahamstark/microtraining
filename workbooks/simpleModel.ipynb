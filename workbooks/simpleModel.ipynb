{
 "cells": [
  {
   "cell_type": "code",
   "execution_count": 96,
   "id": "7f86b3c2-a713-4c7e-b927-6369c7d0be73",
   "metadata": {},
   "outputs": [],
   "source": [
    "import pandas as pd\n",
    "import numpy as np\n",
    "import matplotlib.pyplot as plt"
   ]
  },
  {
   "cell_type": "markdown",
   "id": "d3fbdd1e-bba7-425b-a005-057e1ecccb7b",
   "metadata": {},
   "source": [
    "# Modelling tax and benefit systems\n",
    "\n",
    "Some intro here"
   ]
  },
  {
   "cell_type": "markdown",
   "id": "e3c9aaaa-d88b-4021-9405-805b611916d9",
   "metadata": {},
   "source": [
    "## The Data\n",
    "\n",
    "For this exercise we will use a publicly available subset of the UK Living Costs and Food Survey (2005-6). It has been pushed through [**synthpop**](https://synthpop.org.uk/), a tool to create fake but realistic-looking data.\n",
    "\n",
    "The LCF data is loaded  into a DataFrame (a spreadsheet-like structure)"
   ]
  },
  {
   "cell_type": "code",
   "execution_count": 97,
   "id": "d458f90f-6adf-49a7-9488-aea12819f128",
   "metadata": {},
   "outputs": [],
   "source": [
    "url = \"https://virtual-worlds.scot/ou/uk-lcf-subset-2005-6.csv\"\n",
    "storage_options = {'User-Agent': 'Mozilla/9.0'}\n",
    "\n",
    "lcf = pd.read_csv(url,storage_options=storage_options)\n",
    "#print(lcf.info) "
   ]
  },
  {
   "cell_type": "markdown",
   "id": "9041f118-6f26-4422-8193-5d763f9b3562",
   "metadata": {},
   "source": [
    "## The tax and benefit system\n",
    "\n",
    "We begin by defining a very simple tax and benefit system (**tbsys**). This system:\n",
    "\n",
    "- taxes income at a single rate of 50%\n",
    "- gives everyone a tax-free allowance of £1,000 per year\n",
    "- has a single benefit of £100 per child per week"
   ]
  },
  {
   "cell_type": "code",
   "execution_count": 99,
   "id": "39168a80-7444-4cc3-be11-b708cf38188b",
   "metadata": {},
   "outputs": [],
   "source": [
    "n = lcf.shape[0] #the number of rows, i.e. of houselholds, in the table\n",
    "#print(n)\n",
    "allow = 1000/52\n",
    "rate = 50/100.0\n",
    "ben = 100\n",
    "weight = 26_000_000/n #26 million is the rough number of households in the UK so the weight is a way of extrapolating the test data to the whole UK population"
   ]
  },
  {
   "cell_type": "markdown",
   "id": "1f060353-38b7-4281-861f-3db442ac8e21",
   "metadata": {},
   "source": [
    "The **tbsys** function below calculates, for a single househould (i.e. row) in the above table:\n",
    "- the _taxable_ income\n",
    "- the actual _tax_ to be paid at the given tax _rate_\n",
    "- any _benefit_ owed\n",
    "- the _net_ household income after taxes and benefits have been applied"
   ]
  },
  {
   "cell_type": "code",
   "execution_count": 100,
   "id": "f86a6679-ae96-4e51-803d-fa23ec1bdc7d",
   "metadata": {},
   "outputs": [],
   "source": [
    "def tbsys( hh, allow, rate, ben ):\n",
    "    taxable = max(hh.hhincome-allow,0)\n",
    "    tax = taxable*rate\n",
    "    benefit = hh.children*ben\n",
    "    net = hh.hhincome+benefit-tax\n",
    "    return (tax,benefit,net)"
   ]
  },
  {
   "cell_type": "markdown",
   "id": "58aaa174-30fa-4296-bc44-e196c672d49b",
   "metadata": {},
   "source": [
    "## The impact of our tax and benefit system on households\n",
    "\n",
    "Below, we calculate the net income for every household after taxes and benefits have been applied.\n",
    "The figures are multiplied by 52 at the end because LCF data is about weekly income/spending and we want a yearly (52 weeks) view."
   ]
  },
  {
   "cell_type": "code",
   "execution_count": 102,
   "id": "561e6c5f-11c1-4dba-b1f3-77f5200a001b",
   "metadata": {},
   "outputs": [],
   "source": [
    "#create \"empty\" (with zeros) arrays to contain the household data after tax and benefits are calculated\n",
    "taxes = [0] * n\n",
    "bens = [0] * n\n",
    "net = [0] * n\n",
    "\n",
    "# now calculate tax, benefits and net income for every household\n",
    "for i in range(0,n):\n",
    "    hh = lcf.iloc[i]\n",
    "    taxes[i], bens[i], net[i] = tbsys(hh,allow,rate,ben)\n",
    "\n",
    "bens = np.multiply(bens, 52)\n",
    "taxes = np.multiply(taxes, 52)\n",
    "net = np.multiply(net, 52)"
   ]
  },
  {
   "cell_type": "markdown",
   "id": "28c745f2-fed8-4097-8921-7baf42501d57",
   "metadata": {},
   "source": [
    "## What is the system doing?\n",
    "\n",
    "You can see from the calculations below that the system is collecting £319bn in taxes and paying out £75bn in benefits. Total net income stands at 419 billion.  \n",
    "\n",
    "(the _weight_ parameter, defined above, represents the number of households in the UK (~24 million) that each household in the data sample stands for)\n"
   ]
  },
  {
   "cell_type": "code",
   "execution_count": 116,
   "id": "b92d3215-e677-4829-a308-56d5cd2a948f",
   "metadata": {},
   "outputs": [],
   "source": [
    "rev = round(sum(taxes)*weight/1000_000_000)\n",
    "bent = round(sum(bens)*weight/1000_000_000)\n",
    "ninc = sum(net)\n",
    "ninc_display = round(sum(net)*weight/1000_000_000)"
   ]
  },
  {
   "cell_type": "code",
   "execution_count": 117,
   "id": "e6cd2c65-b272-4cf0-9e51-23b1d1f2e65f",
   "metadata": {},
   "outputs": [
    {
     "name": "stdout",
     "output_type": "stream",
     "text": [
      "taxes = £ 319  bn pa\n",
      "benefits = £ 75  bn pa\n",
      "total net income = £ 419  bn pa\n"
     ]
    }
   ],
   "source": [
    "print(\"taxes = £\",rev,\" bn pa\")\n",
    "print(\"benefits = £\",bent,\" bn pa\")\n",
    "print(\"total net income = £\",ninc_display,\" bn pa\")\t"
   ]
  },
  {
   "cell_type": "markdown",
   "id": "b59f53e8-9dfc-4308-86ef-07dd751291fb",
   "metadata": {},
   "source": [
    "# But is it a fair system?\n",
    "\n",
    "That is a difficult question to answer because it depends on the definition of what is \"fair\". \n",
    "\n",
    "But following our simplified view you could say that a \"fair\" distribution of net (i.e. disposable) income would be every household having an equal share of the total pie.\n",
    "\n",
    "In the chart below, where the X axis represents the percentage of the total population and the Y axis represents the share of the pie,  that \"perfectly fair\" distribution is represented by the orange line. On any point on that line, x% of the population has exactly x% of the net income.\n",
    "\n",
    "The blue line represents the data from our LCF survey. This is a much more unequal distribution. For example you can see that the bottom 50% of the population has roughly 25% of the income, and around 70% of the population share half of it. Which means that the other 30% have the other half. \n"
   ]
  },
  {
   "cell_type": "code",
   "execution_count": 119,
   "id": "3e5a151d-8f0d-457f-81e9-4c3f81b5f4b9",
   "metadata": {},
   "outputs": [
    {
     "data": {
      "image/png": "[encoded data removed]",
      "text/plain": [
       "<Figure size 640x480 with 1 Axes>"
      ]
     },
     "metadata": {},
     "output_type": "display_data"
    }
   ],
   "source": [
    "x=np.cumsum([1]*n)/n\n",
    "net.sort()\n",
    "y= np.cumsum(net)/ninc\n",
    "#print(x,y)\n",
    "x1=[0,1]\n",
    "y1=[0,1]\n",
    "plt.plot(x, y)\n",
    "plt.plot(x1, y1)\n",
    "plt.grid()\n",
    "plt.show()"
   ]
  },
  {
   "cell_type": "markdown",
   "id": "81d5abca-9f8a-49af-86ed-4a984cc29526",
   "metadata": {},
   "source": [
    "## Conclusion\n",
    "\n",
    "This is a deliberately simplified model of a tax and benefit system. In reality the UK system (or any other country's) has a bewildering array of taxes, tax bands, benefits and exemptions. But, at least in theory, these can be modelled using similar techniques as the ones described above. And then we can make changes to the model and try to decide whether we think it is a \"fairer\" or better way of taking money away from some people (taxes) and giving it to others (benefits).\n"
   ]
  }
 ],
 "metadata": {
  "kernelspec": {
   "display_name": "Python 3 (ipykernel)",
   "language": "python",
   "name": "python3"
  },
  "language_info": {
   "codemirror_mode": {
    "name": "ipython",
    "version": 3
   },
   "file_extension": ".py",
   "mimetype": "text/x-python",
   "name": "python",
   "nbconvert_exporter": "python",
   "pygments_lexer": "ipython3",
   "version": "3.10.12"
  }
 },
 "nbformat": 4,
 "nbformat_minor": 5
}
