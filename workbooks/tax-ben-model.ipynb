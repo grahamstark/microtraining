{
 "cells": [
  {
   "cell_type": "code",
   "execution_count": 192,
   "id": "a43e3da0",
   "metadata": {
    "vscode": {
     "languageId": "plaintext"
    }
   },
   "outputs": [],
   "source": [
    "import pandas as pd\n",
    "import numpy as np\n",
    "import matplotlib.pyplot as plt\n",
    "import ipywidgets as widgets\n",
    "from IPython.core.interactiveshell import InteractiveShell  \n",
    "InteractiveShell.ast_node_interactivity = \"all\"\n",
    "pd.options.mode.copy_on_write = True"
   ]
  },
  {
   "cell_type": "markdown",
   "id": "8d75e1ca",
   "metadata": {},
   "source": [
    "## Build a tax-benefit model from scratch in 30 minutes\n",
    " \n",
    "Things we need:\n",
    "\n",
    "* data - Family Resources Survey(FRS)/LFS/Living Costs and Food Survey(LCF)/Understanding Society... This example uses our old LCF\n",
    "* A programming language:\n",
    "   - We will use Python\n",
    "* Structures: we need to model:\n",
    "   - people, families and households;\n",
    "   - the fiscal system (taxes, benefits);\n",
    "   - outcomes: incomes net of taxes and benefits, revenues raised, inequalities, poverty and so on.\n",
    "\n",
    "Let's build one from scratch, in real time (with some 'here's some I prepared earlier' where needs be).\n"
   ]
  },
  {
   "cell_type": "code",
   "execution_count": 44,
   "id": "38aafa08",
   "metadata": {
    "vscode": {
     "languageId": "plaintext"
    }
   },
   "outputs": [],
   "source": [
    "url = \"https://virtual-worlds.scot/ou/uk-lcf-subset-2005-6.csv\"\n",
    "storage_options = {'User-Agent': 'Mozilla/9.0'}\n",
    "\n",
    "lcf = pd.read_csv(url,storage_options=storage_options)\n",
    "#print(lcf.info) \n",
    "lcf_small = lcf.iloc[:10]"
   ]
  },
  {
   "cell_type": "markdown",
   "id": "2e33fc46",
   "metadata": {},
   "source": [
    "## Our Tax-Benefit System\n",
    "This is deliberately very simple. In the first instance, we want to model how a single household is affected by one tax-benefit system. We then build up from that.\n",
    "\n",
    "We need:\n",
    "\n",
    "* something to describe the tax-benefit system;\n",
    "* something to hold results; \n",
    "* a description of a single household; and \n",
    "* a function that takes a single household and a system and returns a result      "
   ]
  },
  {
   "cell_type": "markdown",
   "id": "07d00129-3213-4bb0-a77c-196db1d458b9",
   "metadata": {},
   "source": [
    "### Something to describe the tax-benefit system"
   ]
  },
  {
   "cell_type": "code",
   "execution_count": 45,
   "id": "b5e82545",
   "metadata": {
    "vscode": {
     "languageId": "plaintext"
    }
   },
   "outputs": [],
   "source": [
    "# holder for 1 tax system\n",
    "\n",
    "class System: \n",
    "     \n",
    "    # Class Variable \n",
    "    system = 'System'           \n",
    "     \n",
    "    # The init method or constructor \n",
    "    def __init__(self, allowance, it_rate, ni_rate, benefit, vat_rate, extend_vat): \n",
    "     \n",
    "        # Instance Variable     \n",
    "        self.allowance = allowance\n",
    "        self.it_rate = it_rate    \n",
    "        self.ni_rate = ni_rate\n",
    "        self.benefit = benefit\n",
    "        self.vat_rate = vat_rate\n",
    "        self.extend_vat = extend_vat"
   ]
  },
  {
   "cell_type": "markdown",
   "id": "0134e9e0-64b9-434d-a9be-eeac53ba2ca9",
   "metadata": {},
   "source": [
    "### Something to hold results"
   ]
  },
  {
   "cell_type": "code",
   "execution_count": 46,
   "id": "75cea781-9d76-44bf-8554-e4e16d2a9660",
   "metadata": {
    "vscode": {
     "languageId": "plaintext"
    }
   },
   "outputs": [],
   "source": [
    "# holder for 1 Result\n",
    "\n",
    "class Result: \n",
    "     \n",
    "    # Class Variable \n",
    "    result = 'Result'           \n",
    "     \n",
    "    # The init method or constructor \n",
    "    def __init__(self, net, tax, ni, vat, benefit): \n",
    "     \n",
    "        # Instance Variable     \n",
    "        self.net = net\n",
    "        self.tax = tax\n",
    "        self.ni = ni\n",
    "        self.vat = vat\n",
    "        self.benefit = benefit"
   ]
  },
  {
   "cell_type": "markdown",
   "id": "ac266ab9-d63b-4985-b9dd-7a4882b96770",
   "metadata": {},
   "source": [
    "### A description of a single household\n",
    "A single household is represented by a row in the lcf dataset we downloadaed above"
   ]
  },
  {
   "cell_type": "markdown",
   "id": "77f3e45f-4439-44bd-a302-4403979da092",
   "metadata": {},
   "source": [
    "### A function that takes a single household and a system and returns a result"
   ]
  },
  {
   "cell_type": "code",
   "execution_count": 47,
   "id": "b6c82bb7-e7ff-47ba-931d-19047c26d717",
   "metadata": {},
   "outputs": [],
   "source": [
    "# calculate for one household and one system, returning one result\n",
    "def calc_system( hh, sys):\n",
    "    out = Result\n",
    "    #print(\"out tax is \", out.tax)\n",
    "    taxable = max(0.0, hh.hhincome-sys.allowance )\n",
    "    out.tax = taxable*sys.it_rate\n",
    "    out.ni = max(0.0, hh.gross_pay*sys.ni_rate)\n",
    "    out.benefit = 0.0 \n",
    "    # an unemployment/retirement benefit\n",
    "    if hh.number_in_work == 0:\n",
    "        out.benefit = sys.benefit\n",
    "    vatable = hh.tobacco_alcohol + hh.clothing + hh.housing_and_energy + hh.household_goods + hh.health + hh.transport + hh.communication + hh.recreation +\thh.restaurants_etc + hh.misc_goods\n",
    "    if sys.extend_vat:\n",
    "        vatable += hh.food_and_drink + hh.housing_and_energy+hh.education\n",
    "    out.vat = vatable * sys.vat_rate\n",
    "    out.net = hh.hhincome - out.ni - out.tax - out.vat + out.benefit\n",
    "    return out"
   ]
  },
  {
   "cell_type": "markdown",
   "id": "6e2bd3a5-6c78-457b-8913-00d848cb0908",
   "metadata": {},
   "source": [
    "## Create some variables for the dynamic tax and benefit system\n",
    "\n",
    "Below we create some interactive variables so that a second tax and benefit system can be used and modified to compare with our original one"
   ]
  },
  {
   "cell_type": "code",
   "execution_count": 48,
   "id": "dfbfa106-c1c9-4711-af6d-ccc8e95ca941",
   "metadata": {},
   "outputs": [],
   "source": [
    "new_allowance = widgets.BoundedFloatText(\n",
    "    value=10000,\n",
    "    min=0,\n",
    "    max=25000,\n",
    "    step=200,\n",
    "    description='Tax Allowance (pa):',\n",
    "    disabled=False\n",
    ")\n",
    "\n",
    "new_it_rate = widgets.BoundedFloatText(\n",
    "    value=25,\n",
    "    min=0,\n",
    "    max=75,\n",
    "    step=1,\n",
    "    description='Income Tax Rate (%):',\n",
    "    disabled=False\n",
    ")\n",
    "\n",
    "new_ni_rate = widgets.BoundedFloatText(\n",
    "    value=10,\n",
    "    min=0,\n",
    "    max=75,\n",
    "    step=1,\n",
    "    description='Payroll Tax (NI) (%):',\n",
    "    disabled=False\n",
    ")\n",
    "\n",
    "new_benefit = widgets.BoundedFloatText(\n",
    "    value=10,\n",
    "    min=0,\n",
    "    max=250,\n",
    "    step=5,\n",
    "    description='Benefit Rate (p.w):',\n",
    "    disabled=False\n",
    ")\n",
    "\n",
    "new_vat_rate = widgets.BoundedFloatText(\n",
    "    value=20,\n",
    "    min=0,\n",
    "    max=75,\n",
    "    step=1,\n",
    "    description='VAT (%):',\n",
    "    disabled=False\n",
    ")\n",
    "\n",
    "new_extend_vat = widgets.Checkbox(\n",
    "    value=False,\n",
    "    description='Extend VAT?',\n",
    "    disabled=False,\n",
    "    indent=True\n",
    ")"
   ]
  },
  {
   "cell_type": "code",
   "execution_count": 365,
   "id": "d208ce86-88ac-475e-a9d3-d0994793c1d1",
   "metadata": {},
   "outputs": [
    {
     "data": {
      "application/vnd.jupyter.widget-view+json": {
       "model_id": "4cc776394b1f4839bb278bc4b3f61dd9",
       "version_major": 2,
       "version_minor": 0
      },
      "text/plain": [
       "BoundedFloatText(value=10000.0, description='Tax Allowance (pa):', max=25000.0, step=200.0)"
      ]
     },
     "execution_count": 365,
     "metadata": {},
     "output_type": "execute_result"
    },
    {
     "data": {
      "application/vnd.jupyter.widget-view+json": {
       "model_id": "1d64aa3bab0440be9b4e7bd1b9fc2324",
       "version_major": 2,
       "version_minor": 0
      },
      "text/plain": [
       "BoundedFloatText(value=25.0, description='Income Tax Rate (%):', max=75.0, step=1.0)"
      ]
     },
     "execution_count": 365,
     "metadata": {},
     "output_type": "execute_result"
    },
    {
     "data": {
      "application/vnd.jupyter.widget-view+json": {
       "model_id": "c1c5215bb36d4dc5904686ac38fa14fe",
       "version_major": 2,
       "version_minor": 0
      },
      "text/plain": [
       "BoundedFloatText(value=10.0, description='Payroll Tax (NI) (%):', max=75.0, step=1.0)"
      ]
     },
     "execution_count": 365,
     "metadata": {},
     "output_type": "execute_result"
    },
    {
     "data": {
      "application/vnd.jupyter.widget-view+json": {
       "model_id": "865d26c328114d50814368a804a8d7e3",
       "version_major": 2,
       "version_minor": 0
      },
      "text/plain": [
       "BoundedFloatText(value=250.0, description='Benefit Rate (p.w):', max=250.0, step=5.0)"
      ]
     },
     "execution_count": 365,
     "metadata": {},
     "output_type": "execute_result"
    },
    {
     "data": {
      "application/vnd.jupyter.widget-view+json": {
       "model_id": "b12b3e4bdb384b22961ca0eaa05e688d",
       "version_major": 2,
       "version_minor": 0
      },
      "text/plain": [
       "BoundedFloatText(value=20.0, description='VAT (%):', max=75.0, step=1.0)"
      ]
     },
     "execution_count": 365,
     "metadata": {},
     "output_type": "execute_result"
    },
    {
     "data": {
      "application/vnd.jupyter.widget-view+json": {
       "model_id": "0840ef0aba234c308bc3bfa75815d572",
       "version_major": 2,
       "version_minor": 0
      },
      "text/plain": [
       "Checkbox(value=False, description='Extend VAT?')"
      ]
     },
     "execution_count": 365,
     "metadata": {},
     "output_type": "execute_result"
    }
   ],
   "source": [
    "new_allowance\n",
    "new_it_rate\n",
    "new_ni_rate\n",
    "new_benefit\n",
    "new_vat_rate\n",
    "new_extend_vat"
   ]
  },
  {
   "cell_type": "markdown",
   "id": "68f4d1e8-effc-47fd-8408-0d4191b3c7e0",
   "metadata": {},
   "source": [
    "## Initialise Systems\n",
    "\n",
    "These construct our two tax-benefit systems. So `sys1` has a 10k tax allowance, and so on. Sys2, the changed system, is set from a bunch of variables we set above: `new_allowance` and so on. This allows us to change the parameters dynamically."
   ]
  },
  {
   "cell_type": "code",
   "execution_count": 366,
   "id": "686ed6e3-b3a6-4dc3-8c75-e7913dc882c1",
   "metadata": {},
   "outputs": [],
   "source": [
    "sys1 = System( 10_000/52, 0.25, 0.10, 100.0, 0.20, False )\n",
    "sys2 = System( new_allowance.value/52, new_it_rate.value/100, new_ni_rate.value/100, new_benefit.value, new_vat_rate.value/100, new_extend_vat )"
   ]
  },
  {
   "cell_type": "markdown",
   "id": "c02f2772-440c-40ec-b78d-7b86f9ff4484",
   "metadata": {},
   "source": [
    "## Sample Weights\n",
    "\n",
    "Some very crude stuff to uprate and weight our very old LCF data. \n",
    "\n",
    "* We use a single household weight which is just [the number of households in the UK from the ONS](https://www.ons.gov.uk/economy/grossdomesticproductgdp/timeseries/abmz/ukea) divided by the number of sample housholds.\n",
    "* We uprate by the [change in Nominal GDP between 2005 Q3 and 2023 Q3](https://www.ons.gov.uk/economy/grossdomesticproductgdp/timeseries/abmz/ukea)."
   ]
  },
  {
   "cell_type": "code",
   "execution_count": 368,
   "id": "a6a62879-2a24-4c4e-8dee-c00f1093b0b9",
   "metadata": {},
   "outputs": [],
   "source": [
    "SAMPLE_SIZE = lcf_small.shape[0] # count of rows\n",
    "NUM_HHLDS = 24_783_192\n",
    "WEIGHT = 1 #NUM_HHLDS/SAMPLE_SIZE\n",
    "\t# https://www.ons.gov.uk/economy/grossdomesticproductgdp/timeseries/abmz/ukea\n",
    "INFLATION = 678129/353999\n",
    "\t## nom gdp q3 2004 332192 q3 2023 678129\n",
    "\n",
    "lcf.loc[:,\n",
    "    [\"hhincome\",\n",
    "        \"gross_pay\",\n",
    "        \"food_and_drink\",\n",
    "        \"tobacco_alcohol\",\n",
    "        \"clothing\",\n",
    "        \"housing_and_energy\",\n",
    "        \"household_goods\",\n",
    "        \"health\",\n",
    "        \"transport\",\n",
    "        \"communication\",\n",
    "        \"recreation\",\n",
    "        \"education\",\n",
    "        \"restaurants_etc\",\n",
    "        \"misc_goods\",\n",
    "        \"total_consumption\",\n",
    "        \"non_consumption\",\n",
    "        \"total_expenditure\"]] *= INFLATION"
   ]
  },
  {
   "cell_type": "markdown",
   "id": "dceb4d75-bb7a-42b3-9f32-8bc073438d40",
   "metadata": {},
   "source": [
    "## Run the model over each household\n",
    "\n",
    "Next, run our single household/single system function for each household in the data. To save the results, we construct a new DataFrame to hold vectors of tax payments, etc., and fill that in as we go along. We run this function twice, once foreach system, and pass the result DataFrames to the analysis function, which summarises everything for us. "
   ]
  },
  {
   "cell_type": "code",
   "execution_count": 369,
   "id": "f4df1b39-c3a4-408f-9ea6-f9507a7d4fb7",
   "metadata": {},
   "outputs": [],
   "source": [
    "def one_calc(sys):\n",
    "    n = lcf_small.shape[0] # count of rows\n",
    "    # create DF with zeroes to hold the results\n",
    "    out = pd.DataFrame(\n",
    "        np.zeros((n, 6)), columns=[\"gross\", \"net\", \"tax\", \"ni\", \"vat\", \"benefit\"]\n",
    "    )\n",
    "    #print(out.info)\n",
    "    # Iterating over rows\n",
    "    \n",
    "    for i in range(0,n):\n",
    "        res = calc_system( lcf_small.iloc[i], sys )\n",
    "        out.loc[i,\"gross\"] = lcf_small.iloc[i].hhincome\n",
    "        out.loc[i,\"net\"] = res.net\n",
    "        out.loc[i,\"tax\"] = res.tax\n",
    "        out.loc[i,\"ni\"] = res.ni\n",
    "        out.loc[i,\"vat\"] = res.vat\n",
    "        out.loc[i,\"benefit\"] = res.benefit\n",
    "\n",
    "    out[\"weight\"] = WEIGHT  # adding the weight constant to every result for use later\n",
    "\n",
    "    return out\n",
    "        \n"
   ]
  },
  {
   "cell_type": "code",
   "execution_count": 370,
   "id": "5f192b01-60c5-4c84-b2ba-25aa935db48c",
   "metadata": {},
   "outputs": [],
   "source": [
    "res1 = one_calc(sys1)\n",
    "#print (res1.info)\n",
    "res2 = one_calc(sys2)\n"
   ]
  },
  {
   "cell_type": "code",
   "execution_count": 371,
   "id": "dc72a594-6b84-4df6-8f2b-d08c93c4155d",
   "metadata": {},
   "outputs": [
    {
     "name": "stdout",
     "output_type": "stream",
     "text": [
      "         gross          net          tax          ni          vat  benefit  \\\n",
      "0  5155.089627  2503.313661  1240.695484  569.650971   841.429512      0.0   \n",
      "1   927.570276   738.078597   183.815646    0.000000   105.676033    100.0   \n",
      "2  2750.473066  1415.261586   639.541343    0.000000   695.670137      0.0   \n",
      "3  5323.195571  3444.423325  1282.721970    0.000000   696.050276    100.0   \n",
      "4  3022.237548  1215.785494   707.482464  175.810390   923.159200      0.0   \n",
      "5  1028.360735   766.791013   209.013261    0.000000   152.556461    100.0   \n",
      "6  5843.287836  3510.423904  1412.745036  483.158726   436.960170      0.0   \n",
      "7  3066.242867   798.933505   718.483794  508.767573  1040.057996      0.0   \n",
      "8  9659.659721  6745.967748  2366.838007  110.463194   436.390772      0.0   \n",
      "9  4030.437379  2862.691980   959.532422    0.000000   308.212977    100.0   \n",
      "\n",
      "   weight  \n",
      "0       1  \n",
      "1       1  \n",
      "2       1  \n",
      "3       1  \n",
      "4       1  \n",
      "5       1  \n",
      "6       1  \n",
      "7       1  \n",
      "8       1  \n",
      "9       1  \n",
      "         gross          net          tax          ni          vat  benefit  \\\n",
      "0  5155.089627  2393.033237  1240.695484  569.650971   951.709936      0.0   \n",
      "1   927.570276   848.776082   183.815646    0.000000   144.978548    250.0   \n",
      "2  2750.473066  1348.009367   639.541343    0.000000   762.922356      0.0   \n",
      "3  5323.195571  3486.174457  1282.721970    0.000000   804.299145    250.0   \n",
      "4  3022.237548  1177.347620   707.482464  175.810390   961.597073      0.0   \n",
      "5  1028.360735   815.121854   209.013261    0.000000   254.225620    250.0   \n",
      "6  5843.287836  3368.763328  1412.745036  483.158726   578.620745      0.0   \n",
      "7  3066.242867   574.154895   718.483794  508.767573  1264.836606      0.0   \n",
      "8  9659.659721  6614.710987  2366.838007  110.463194   567.647534      0.0   \n",
      "9  4030.437379  2908.632756   959.532422    0.000000   412.272202    250.0   \n",
      "\n",
      "   weight  \n",
      "0       1  \n",
      "1       1  \n",
      "2       1  \n",
      "3       1  \n",
      "4       1  \n",
      "5       1  \n",
      "6       1  \n",
      "7       1  \n",
      "8       1  \n",
      "9       1  \n"
     ]
    }
   ],
   "source": [
    "print(res1)\n",
    "print(res2)"
   ]
  },
  {
   "cell_type": "markdown",
   "id": "a8001d2c-9174-4a21-a366-e211345db5b3",
   "metadata": {},
   "source": [
    "## Analyse And Display The Results\n",
    "\n",
    "At the other end of the process, we'll have lists of results, one per household, possibly for 2 or more of our tax systems. We'll need to summarise and compare them. The next two functions do this. There's some messy detail here, especially for the charts. We use the `PoveryAndInequalityMeasures` package to produce deciles and Lorenz curves.\n"
   ]
  },
  {
   "cell_type": "code",
   "execution_count": 372,
   "id": "e55e1e2f-8035-41da-b64c-4f822cc5ac70",
   "metadata": {},
   "outputs": [],
   "source": [
    "def make_gini_palma(data):\n",
    "    #print(data)\n",
    "    lorenz = 0.0\n",
    "    nrows = data.shape[0] # count of rows\n",
    "    if nrows == 0:\n",
    "        return 0.0\n",
    "    #sort by income\n",
    "    sorted_data = data.sort_values(by='net').reset_index(drop=True)\n",
    "    sorted_data.loc[0,\"POPN_ACCUM\"] = WEIGHT\n",
    "    sorted_data.loc[0, \"INCOME_ACCUM\"] = sorted_data.loc[0, \"net\"]*WEIGHT\n",
    "    sorted_data.loc[0, \"WEIGHTED_INCOME\"] = sorted_data.loc[0, \"net\"]*WEIGHT\n",
    "    #print(sorted_data)\n",
    "    for i in range(1,nrows):\n",
    "        #print(i)\n",
    "        sorted_data.loc[i,\"POPN_ACCUM\"] = sorted_data.loc[i-1,\"POPN_ACCUM\"] + WEIGHT\n",
    "        sorted_data.loc[i, \"INCOME_ACCUM\"] = sorted_data.loc[i-1, \"INCOME_ACCUM\"] + sorted_data.loc[i, \"net\"]*WEIGHT\n",
    "        sorted_data.loc[i, \"WEIGHTED_INCOME\"] = sorted_data.loc[i, \"net\"]*WEIGHT\n",
    "    #print(sorted_data)\n",
    "\n",
    "    for i in range(1,nrows):\n",
    "        lorenz += sorted_data.loc[i, \"weight\"]*((2.0*sorted_data.loc[i,\"INCOME_ACCUM\"]) - sorted_data.loc[i,\"WEIGHTED_INCOME\"])\n",
    "    #print(lorenz)\n",
    "    lastr = sorted_data.iloc[-1:] # last entry\n",
    "    #print(lastr)\n",
    "    gini=float(1.0-(lorenz/lastr[\"INCOME_ACCUM\"])/lastr[\"POPN_ACCUM\"])\n",
    "    #print(gini)\n",
    "\n",
    "    sorted_data['bins'] = pd.cut(x=sorted_data['POPN_ACCUM'],bins=10)\n",
    "    #print(sorted_data)\n",
    "    accumulated_income_per_decile = sorted_data.groupby(['bins'], observed=False)['INCOME_ACCUM'].agg(['max'])\n",
    "    income_per_decile = (sorted_data.groupby(['bins'],observed=False)['net'].agg(['sum']))* WEIGHT\n",
    "    average_income_per_decile = income_per_decile / WEIGHT # in other words income divided by the population of that decile\n",
    "    #print(income_per_decile, accumulated_income_per_decile, average_income_per_decile)\n",
    "    #print(accumulated_income_per_decile.iloc[3])\n",
    "    #print(income_per_decile.iloc[9])\n",
    "    palma = float(income_per_decile.iloc[9]) / float(accumulated_income_per_decile.iloc[3])\n",
    "    #print(palma)\n",
    "\n",
    "    retval = { \"gini\":gini , \"palma\":palma, \"average_income_per_decile\": average_income_per_decile}\n",
    "    return retval\n",
    "\n",
    "#EXPLAINER\n",
    "# to make_gini you have to\n",
    "# take initial dataframe (res)\n",
    "# first sort data by income\n",
    "# loop over the rows.. add a POPN_ACCUM field which the sum of households (this is adding the weight.. in our case that is a constant but in a more realistic model weights would be different) \n",
    "# and add a field INCOME_ACCUM with the sum of income up to that point (net * weight)\n",
    "# (so basically in the last row you end up with the total population and the total income\n",
    "# Add another field WEIGHTED_INCOME, which is hh income * weight \n",
    "# Then run the below make gini \n",
    "# It produces one number that is returned\n",
    "# test: if all the nets are the same, then the Gini should be zero\n",
    "    # if all the nets are zero except the last one, then gini = 1 \n",
    "\n",
    "# to make_palma you have to:\n",
    "# take the augmented data\n",
    "# chop it into 10 bins (equal ones... in this case that works because the weights are the same)\n",
    "# we need the total income in each decile and the cumulative income at that point \n",
    "# We want the cumulative income at decile four (i.e. how much income does the bottom 40% have)\n",
    "# We want to know the income of the 10th decile\n",
    "# The palma index is 10th decile share of income / share of income of the bottom 40%\n",
    "# test: if all the nets are 1 (or the same) then the palma should be 1/4"
   ]
  },
  {
   "cell_type": "code",
   "execution_count": 394,
   "id": "244b36e8-f7a1-4944-a1a5-8e86f81ef729",
   "metadata": {},
   "outputs": [],
   "source": [
    "# # res1 and res2 are DataFrames holding lists of results for a pre- and post- system run. See the next cells for more.\n",
    "\n",
    "def analyse( res1, res2):\n",
    "\n",
    "    #print(res1, res2)\n",
    "    cols = ['tax', 'ni','vat']\n",
    "    tax1 = res1[cols].sum(axis=1)*52*WEIGHT\n",
    "    #print(tax1)\n",
    "    #print(res2)\n",
    "    tax2 = res2[cols].sum(axis=1)*52*WEIGHT\n",
    "    #print(tax2)\n",
    "    ben1 = res1.benefit*52*WEIGHT\n",
    "    #print(\"ben1 is\", ben1)\n",
    "    ben2 = res2.benefit*52*WEIGHT\n",
    "    #print(\"ben 2 is\", ben2)\n",
    "    dben = ben2-ben1\n",
    "    #print(\"dben is \", dben)\n",
    "    dtax = tax2-tax1\n",
    "    #print(\"dtax is\", dtax)\n",
    "    ineq1 = make_gini_palma(res1)\n",
    "    ineq2 = make_gini_palma(res2)\n",
    "    dgini = ineq2[\"gini\"] - ineq1[\"gini\"]\n",
    "    dpalma = ineq2[\"palma\"] - ineq1[\"palma\"]\n",
    "    #print(\"digini is \", dgini)\n",
    "    #print(\"dpalma is \", dpalma)\n",
    "\n",
    "    gainers = res2[(res2['net'] > res1['net'])]['net'].count()\n",
    "    losers = res2[(res2['net'] < res1['net'])]['net'].count()\n",
    "    nc = res2[(res2['net'] == res1['net'])]['net'].count()\n",
    "\n",
    "    #print(\"gainers is \", gainers)\n",
    "    #print(\"losers is \", losers)\n",
    "    #print(\"nc is \", nc)\n",
    "\n",
    "    ### now plot\n",
    "    n = res1.shape[0]  # number of rows\n",
    "    ninc1 = res1['net'].sum()\n",
    "    ninc2 = res2['net'].sum()\n",
    "\n",
    "    #sort by income\n",
    "    sorted_data1 = res1.sort_values(by='net').reset_index(drop=True)\n",
    "    sorted_data2 = res2.sort_values(by='net').reset_index(drop=True)\n",
    "\n",
    "    x=np.cumsum([1]*n)/n\n",
    "    #print(\"x is\", x)\n",
    "    y= np.cumsum(sorted_data1['net'])/ninc1\n",
    "    #print(\"y is \", y)\n",
    "    y1 = np.cumsum(sorted_data2['net'])/ninc2\n",
    "    x2=[0,1]\n",
    "    y2=[0,1]\n",
    "    plt.plot(x, y,'r-',label='Initial T&B System')\n",
    "    plt.plot(x, y1,'b-',label='Modified T&B System')\n",
    "    plt.plot(x2, y2, 'g-',label='Perfect Equality')\n",
    "    plt.title('Lorenz Curve')\n",
    "    plt.xlabel('Income Share')\n",
    "    plt.ylabel('Population Share')\n",
    "    plt.grid()\n",
    "    plt.legend()\n",
    "    plt.show()\n",
    "\n",
    "\n",
    "    #x xis deciles\n",
    "    x3 = [1,2,3,4,5,6,7,8,9,10]\n",
    "    \n",
    "    #y is gain/loss\n",
    "    y3 = ineq2['average_income_per_decile'] - ineq1['average_income_per_decile']\n",
    "    #print(y3['sum'])\n",
    "    plt.bar(x3,y3['sum'])\n",
    "    plt.title('Gains/Losses By Decile')\n",
    "    plt.xlabel('Decile')\n",
    "    plt.ylabel('£s pw')\n",
    "    plt.show()\n",
    "\n",
    "\n",
    "    print(\n",
    "        \"Tax Revenue before:\", tax1.sum()\n",
    "    )\n",
    "    # gainers = sum(res1[res2.net .> res1.net,:weight])  #basicall summing who comes out on top v who comes out worse off (in number of households)\n",
    "    # losers = sum(res1[res2.net .< res1.net,:weight])\n",
    "    # nc = sum(res1[res2.net .== res1.net,:weight])\n",
    "\n",
    "    # gain = ineq2.deciles[:,4] .- ineq1.deciles[:,4]  ## this is 10 numbers of the average income per decile \n",
    "    #(sum of incomes in that decile* weight / the number of people in that decile * weight)\n",
    "    # plot that as a bar chart\n",
    "    # f = Figure()\n",
    "    # ax1 = Axis(f[1,1], \n",
    "    #     title=\"Gains/Losses By Decile\", \n",
    "    #     xlabel=\"Decile\", \n",
    "    #     ylabel=\"£s pw\" )\n",
    "    # deciles = barplot!( ax1, gain )\n",
    "\n",
    "    # i1 = copy(ineq1.deciles[:,1:2])\n",
    "    # i1 = vcat([0.0 0.0],i1)\n",
    "    # i2 = copy(ineq2.deciles[:,1:2])\n",
    "    # i2= vcat([0.0 0.0],i2)\t\t\n",
    "    # ax2 = Axis(f[2,1];\n",
    "    #     limits=((0.0,1.0),(0,1.0)),\n",
    "    #     title=\"Lorenz Curve\", \n",
    "    #     xlabel=\"population share\", \n",
    "    #     ylabel=\"Income Share\" )\n",
    "    # lines!(ax2, i1[:,1],i1[:,2], label=\"Before\" )\n",
    "    # lines!(ax2, i2[:,1],i2[:,2], label=\"After\" )\n",
    "    # lines!(ax2, 0:1, 0:1; color=:lightgrey, label=\"Equality\" )\n",
    "    # Legend( f[2,2], ax2, \"\", framevisible = false)\n",
    "    # (; \n",
    "    #  chart = f,\n",
    "    #  ben1 = fm( ben1 ),\n",
    "    #  ben2 = fm( ben2 ),\n",
    "    #  dben = fm(dben),\n",
    "    #  gini1=fp(ineq1.gini), \n",
    "    #  gini2=fp(ineq2.gini),\n",
    "    #  palma1=fp(ineq1.palma),\n",
    "    #  palma2=fp(ineq2.palma),\n",
    "    #  dpalma=fp(dpalma),\n",
    "    #  dgini=fp(dgini),\n",
    "    #  tax1=fm( tax1 ),\n",
    "    #  tax2=fm( tax2 ),\n",
    "    #  dtax=fm( dtax ),\n",
    "    #  gainers=fc( gainers ),\n",
    "    #  losers=fc( losers ),\n",
    "    #  nc=fc(nc))\n"
   ]
  },
  {
   "cell_type": "code",
   "execution_count": 395,
   "id": "856635b8-542a-48d9-b2ee-79105e69495a",
   "metadata": {},
   "outputs": [
    {
     "name": "stderr",
     "output_type": "stream",
     "text": [
      "/tmp/ipykernel_9890/2016433527.py:25: FutureWarning: Calling float on a single element Series is deprecated and will raise a TypeError in the future. Use float(ser.iloc[0]) instead\n",
      "  gini=float(1.0-(lorenz/lastr[\"INCOME_ACCUM\"])/lastr[\"POPN_ACCUM\"])\n",
      "/tmp/ipykernel_9890/2016433527.py:36: FutureWarning: Calling float on a single element Series is deprecated and will raise a TypeError in the future. Use float(ser.iloc[0]) instead\n",
      "  palma = float(income_per_decile.iloc[9]) / float(accumulated_income_per_decile.iloc[3])\n",
      "/tmp/ipykernel_9890/2016433527.py:25: FutureWarning: Calling float on a single element Series is deprecated and will raise a TypeError in the future. Use float(ser.iloc[0]) instead\n",
      "  gini=float(1.0-(lorenz/lastr[\"INCOME_ACCUM\"])/lastr[\"POPN_ACCUM\"])\n",
      "/tmp/ipykernel_9890/2016433527.py:36: FutureWarning: Calling float on a single element Series is deprecated and will raise a TypeError in the future. Use float(ser.iloc[0]) instead\n",
      "  palma = float(income_per_decile.iloc[9]) / float(accumulated_income_per_decile.iloc[3])\n"
     ]
    },
    {
     "data": {
      "image/png": "[encoded data removed]",
      "text/plain": [
       "<Figure size 640x480 with 1 Axes>"
      ]
     },
     "metadata": {},
     "output_type": "display_data"
    },
    {
     "data": {
      "image/png": "[encoded data removed]",
      "text/plain": [
       "<Figure size 640x480 with 1 Axes>"
      ]
     },
     "metadata": {},
     "output_type": "display_data"
    },
    {
     "name": "stdout",
     "output_type": "stream",
     "text": [
      "Tax Revenue before: 894653.9583666981\n"
     ]
    }
   ],
   "source": [
    "analyse(res1, res2)"
   ]
  },
  {
   "cell_type": "markdown",
   "id": "8f80ba13-f0a3-42f4-b2f1-3ebd0dff50b0",
   "metadata": {},
   "source": [
    "s"
   ]
  }
 ],
 "metadata": {
  "kernelspec": {
   "display_name": "Python 3 (ipykernel)",
   "language": "python",
   "name": "python3"
  },
  "language_info": {
   "codemirror_mode": {
    "name": "ipython",
    "version": 3
   },
   "file_extension": ".py",
   "mimetype": "text/x-python",
   "name": "python",
   "nbconvert_exporter": "python",
   "pygments_lexer": "ipython3",
   "version": "3.10.12"
  }
 },
 "nbformat": 4,
 "nbformat_minor": 5
}
